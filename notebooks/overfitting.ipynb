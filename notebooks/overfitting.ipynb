{
 "cells": [
  {
   "cell_type": "code",
   "execution_count": null,
   "id": "245a6cdc",
   "metadata": {},
   "outputs": [],
   "source": [
    "import numpy as np\n",
    "import matplotlib.pyplot as plt\n",
    "from sklearn.tree import DecisionTreeRegressor\n",
    "from sklearn.ensemble import RandomForestRegressor\n",
    "from sklearn.model_selection import train_test_split\n",
    "from sklearn.metrics import mean_squared_error"
   ]
  },
  {
   "cell_type": "markdown",
   "id": "63d27508",
   "metadata": {},
   "source": [
    "1. Generar Datos Sintéticos"
   ]
  },
  {
   "cell_type": "code",
   "execution_count": null,
   "id": "79e36166",
   "metadata": {},
   "outputs": [],
   "source": [
    "# Crear datos no lineales con ruido\n",
    "np.random.seed(42)\n",
    "X = np.linspace(0, 10, 100).reshape(-1, 1)\n",
    "y = np.sin(X).ravel() + np.random.normal(0, 0.1, X.shape[0])  # Ruido añadido"
   ]
  },
  {
   "cell_type": "code",
   "execution_count": null,
   "id": "2b2a75f2",
   "metadata": {
    "lines_to_next_cell": 2
   },
   "outputs": [],
   "source": [
    "# Split en train y test\n",
    "X_train, X_test, y_train, y_test = train_test_split(X, y, test_size=0.3)"
   ]
  },
  {
   "cell_type": "code",
   "execution_count": null,
   "id": "ec49b3e9",
   "metadata": {},
   "outputs": [],
   "source": [
    "# 2. Modelo Sobreajustado (Árbol Profundo)\n",
    "# Árbol con profundidad excesiva (overfits)\n",
    "tree_overfit = DecisionTreeRegressor(max_depth=20)\n",
    "tree_overfit.fit(X_train, y_train)"
   ]
  },
  {
   "cell_type": "code",
   "execution_count": null,
   "id": "81ba7631",
   "metadata": {},
   "outputs": [],
   "source": [
    "# Predicciones\n",
    "y_pred_train = tree_overfit.predict(X_train)\n",
    "y_pred_test = tree_overfit.predict(X_test)"
   ]
  },
  {
   "cell_type": "code",
   "execution_count": null,
   "id": "ec544112",
   "metadata": {},
   "outputs": [],
   "source": [
    "# Métricas\n",
    "print(f\"MSE Train: {mean_squared_error(y_train, y_pred_train):.4f}\")  # ~0.0001\n",
    "print(f\"MSE Test: {mean_squared_error(y_test, y_pred_test):.4f}\")    # ~0.2 (mucho peor)"
   ]
  },
  {
   "cell_type": "code",
   "execution_count": null,
   "id": "c3fa7e24",
   "metadata": {},
   "outputs": [],
   "source": [
    "# Gráfica del Sobreajuste:\n",
    "plt.figure(figsize=(10, 6))\n",
    "plt.scatter(X_train, y_train, color='blue', label='Train', alpha=0.5)\n",
    "plt.scatter(X_test, y_test, color='red', label='Test', alpha=0.5)\n",
    "plt.plot(X, tree_overfit.predict(X), color='green', label='Overfit Tree', linewidth=2)\n",
    "plt.legend()\n",
    "plt.title(\"Overfitting: Modelo 'memoriza' los datos de entrenamiento\")\n",
    "plt.show()"
   ]
  }
 ],
 "metadata": {
  "jupytext": {
   "cell_metadata_filter": "-all",
   "main_language": "python",
   "notebook_metadata_filter": "-all"
  }
 },
 "nbformat": 4,
 "nbformat_minor": 5
}
