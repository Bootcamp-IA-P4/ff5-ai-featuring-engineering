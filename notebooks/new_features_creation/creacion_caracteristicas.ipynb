{
 "cells": [
  {
   "cell_type": "code",
   "execution_count": null,
   "id": "db3ae1a2",
   "metadata": {},
   "outputs": [],
   "source": [
    "import pandas as pd\n",
    "from sklearn.preprocessing import PolynomialFeatures"
   ]
  },
  {
   "cell_type": "code",
   "execution_count": null,
   "id": "2eca8f2b",
   "metadata": {},
   "outputs": [],
   "source": [
    "# Dataset de ejemplo\n",
    "data = {\n",
    "    \"Área\": [50, 80, 120],\n",
    "    \"Precio_por_m2\": [2000, 1800, 2500],\n",
    "    \"Edad\": [25, 40, 60]\n",
    "}\n",
    "df = pd.DataFrame(data)"
   ]
  },
  {
   "cell_type": "code",
   "execution_count": null,
   "id": "1e69c985",
   "metadata": {},
   "outputs": [],
   "source": [
    "# 1. Interacción\n",
    "df[\"Precio_total\"] = df[\"Área\"] * df[\"Precio_por_m2\"]"
   ]
  },
  {
   "cell_type": "code",
   "execution_count": null,
   "id": "40b8d994",
   "metadata": {},
   "outputs": [],
   "source": [
    "# 2. Polinómico\n",
    "df[\"Edad_cuadrada\"] = df[\"Edad\"] ** 2"
   ]
  },
  {
   "cell_type": "code",
   "execution_count": null,
   "id": "23ef67f5",
   "metadata": {},
   "outputs": [],
   "source": [
    "# 3. Binning\n",
    "df[\"Grupo_Edad\"] = pd.cut(df[\"Edad\"], bins=[0, 30, 50, 100], labels=[\"Joven\", \"Adulto\", \"Senior\"])"
   ]
  },
  {
   "cell_type": "code",
   "execution_count": null,
   "id": "ec8d6a76",
   "metadata": {
    "lines_to_next_cell": 2
   },
   "outputs": [],
   "source": [
    "print(df)"
   ]
  }
 ],
 "metadata": {
  "jupytext": {
   "cell_metadata_filter": "-all",
   "main_language": "python",
   "notebook_metadata_filter": "-all"
  }
 },
 "nbformat": 4,
 "nbformat_minor": 5
}
