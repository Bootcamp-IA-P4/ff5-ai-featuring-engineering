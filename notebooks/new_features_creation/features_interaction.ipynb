{
 "cells": [
  {
   "cell_type": "code",
   "execution_count": null,
   "id": "ecbdb40f",
   "metadata": {},
   "outputs": [],
   "source": [
    "import pandas as pd\n",
    "import numpy as np\n",
    "import matplotlib.pyplot as plt\n",
    "from sklearn.preprocessing import PolynomialFeatures\n",
    "from sklearn.linear_model import LinearRegression\n",
    "from mpl_toolkits.mplot3d import Axes3D"
   ]
  },
  {
   "cell_type": "code",
   "execution_count": null,
   "id": "687d79f6",
   "metadata": {},
   "outputs": [],
   "source": [
    "# Crear dataset sintético de propiedades\n",
    "np.random.seed(42)\n",
    "n_samples = 200\n",
    "df = pd.DataFrame({\n",
    "    'Área': np.random.normal(100, 30, n_samples).clip(50, 200),\n",
    "    'Habitaciones': np.random.randint(1, 6, n_samples),\n",
    "    'Distancia_Centro': np.random.exponential(5, n_samples).clip(0.5, 20),\n",
    "    'Año_Construcción': np.random.randint(1950, 2023, n_samples)\n",
    "})"
   ]
  },
  {
   "cell_type": "code",
   "execution_count": null,
   "id": "6074f4fd",
   "metadata": {},
   "outputs": [],
   "source": [
    "# Crear interacciones manuales\n",
    "df['Precio_por_m2'] = 2000 + 50*df['Distancia_Centro'] - 2*(2023 - df['Año_Construcción'])\n",
    "df['Precio_Base'] = df['Área'] * df['Precio_por_m2']"
   ]
  },
  {
   "cell_type": "code",
   "execution_count": null,
   "id": "1207ed8f",
   "metadata": {},
   "outputs": [],
   "source": [
    "# Interacciones complejas\n",
    "df['Área_x_Habitaciones'] = df['Área'] * df['Habitaciones']\n",
    "df['Área_x_Año'] = df['Área'] * (2023 - df['Año_Construcción'])\n",
    "df['Habitaciones_x_Distancia'] = df['Habitaciones'] / (df['Distancia_Centro'] + 1)"
   ]
  },
  {
   "cell_type": "code",
   "execution_count": null,
   "id": "317ba7ba",
   "metadata": {},
   "outputs": [],
   "source": [
    "# Precio final con ruido\n",
    "df['Precio'] = df['Precio_Base'] * (0.9 + 0.2*df['Habitaciones']) + np.random.normal(0, 50000, n_samples)"
   ]
  },
  {
   "cell_type": "code",
   "execution_count": null,
   "id": "edb3c776",
   "metadata": {},
   "outputs": [],
   "source": [
    "# Visualización 3D de interacciones\n",
    "fig = plt.figure(figsize=(14, 6))\n",
    "ax1 = fig.add_subplot(121, projection='3d')\n",
    "ax1.scatter(df['Área'], df['Habitaciones'], df['Precio'], c=df['Precio'], cmap='viridis')\n",
    "ax1.set_xlabel('Área (m²)')\n",
    "ax1.set_ylabel('Habitaciones')\n",
    "ax1.set_zlabel('Precio')\n",
    "ax1.set_title('Interacción Área x Habitaciones')"
   ]
  },
  {
   "cell_type": "code",
   "execution_count": null,
   "id": "2500191c",
   "metadata": {},
   "outputs": [],
   "source": [
    "ax2 = fig.add_subplot(122, projection='3d')\n",
    "ax2.scatter(df['Año_Construcción'], df['Distancia_Centro'], df['Precio'], c=df['Precio'], cmap='plasma')\n",
    "ax2.set_xlabel('Año Construcción')\n",
    "ax2.set_ylabel('Distancia Centro (km)')\n",
    "ax2.set_zlabel('Precio')\n",
    "ax2.set_title('Interacción Año x Distancia')"
   ]
  },
  {
   "cell_type": "code",
   "execution_count": null,
   "id": "1b41e17f",
   "metadata": {},
   "outputs": [],
   "source": [
    "plt.tight_layout()\n",
    "plt.show()"
   ]
  },
  {
   "cell_type": "code",
   "execution_count": null,
   "id": "d53b80ac",
   "metadata": {},
   "outputs": [],
   "source": [
    "# Modelado para evaluar interacciones\n",
    "interaction_features = ['Área', 'Habitaciones', 'Distancia_Centro', 'Año_Construcción', 'Área_x_Habitaciones']\n",
    "X = df[interaction_features]\n",
    "y = df['Precio']"
   ]
  },
  {
   "cell_type": "code",
   "execution_count": null,
   "id": "d52d5476",
   "metadata": {},
   "outputs": [],
   "source": [
    "model = LinearRegression()\n",
    "model.fit(X, y)"
   ]
  },
  {
   "cell_type": "code",
   "execution_count": null,
   "id": "2e2353e3",
   "metadata": {},
   "outputs": [],
   "source": [
    "print(\"Coeficientes del modelo:\")\n",
    "for feature, coef in zip(interaction_features, model.coef_):\n",
    "    print(f\"{feature}: {coef:.2f}\")\n",
    "print(f\"Intercepto: {model.intercept_:.2f}\")"
   ]
  },
  {
   "cell_type": "code",
   "execution_count": null,
   "id": "051f16ac",
   "metadata": {},
   "outputs": [],
   "source": [
    "# Importancia de las interacciones\n",
    "importance = pd.DataFrame({\n",
    "    'Feature': interaction_features,\n",
    "    'Importance': np.abs(model.coef_)\n",
    "}).sort_values('Importance', ascending=False)"
   ]
  },
  {
   "cell_type": "code",
   "execution_count": null,
   "id": "531909eb",
   "metadata": {},
   "outputs": [],
   "source": [
    "plt.figure(figsize=(10, 5))\n",
    "plt.barh(importance['Feature'], importance['Importance'])\n",
    "plt.title('Importancia de las Características e Interacciones')\n",
    "plt.xlabel('Valor Absoluto del Coeficiente')\n",
    "plt.show()"
   ]
  }
 ],
 "metadata": {
  "jupytext": {
   "cell_metadata_filter": "-all",
   "main_language": "python",
   "notebook_metadata_filter": "-all"
  }
 },
 "nbformat": 4,
 "nbformat_minor": 5
}
