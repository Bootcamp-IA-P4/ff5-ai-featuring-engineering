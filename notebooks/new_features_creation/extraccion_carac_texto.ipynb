{
 "cells": [
  {
   "cell_type": "code",
   "execution_count": null,
   "id": "150a2d80",
   "metadata": {},
   "outputs": [],
   "source": [
    "from sklearn.feature_extraction.text import CountVectorizer, TfidfVectorizer\n",
    "import pandas as pd"
   ]
  },
  {
   "cell_type": "code",
   "execution_count": null,
   "id": "6a3961d4",
   "metadata": {},
   "outputs": [],
   "source": [
    "# Datos de ejemplo: reseñas de productos\n",
    "corpus = [\n",
    "    \"Me encanta este producto, es excelente\",\n",
    "    \"No me gustó, no lo recomiendo\",\n",
    "    \"Calidad aceptable por el precio\",\n",
    "    \"Increíble, superó mis expectativas\",\n",
    "    \"Defectuoso, no funcionó desde el primer día\"\n",
    "]"
   ]
  },
  {
   "cell_type": "code",
   "execution_count": null,
   "id": "fb93c45e",
   "metadata": {},
   "outputs": [],
   "source": [
    "# 1. Bolsa de palabras (CountVectorizer)\n",
    "count_vectorizer = CountVectorizer()\n",
    "X_count = count_vectorizer.fit_transform(corpus)\n",
    "df_count = pd.DataFrame(X_count.toarray(), columns=count_vectorizer.get_feature_names_out())"
   ]
  },
  {
   "cell_type": "code",
   "execution_count": null,
   "id": "d7f57790",
   "metadata": {},
   "outputs": [],
   "source": [
    "# 2. TF-IDF (TfidfVectorizer)\n",
    "tfidf_vectorizer = TfidfVectorizer()\n",
    "X_tfidf = tfidf_vectorizer.fit_transform(corpus)\n",
    "df_tfidf = pd.DataFrame(X_tfidf.toarray(), columns=tfidf_vectorizer.get_feature_names_out())"
   ]
  },
  {
   "cell_type": "code",
   "execution_count": null,
   "id": "06e19329",
   "metadata": {},
   "outputs": [],
   "source": [
    "# Mostrar resultados\n",
    "print(\"=== Bolsa de palabras ===\")\n",
    "print(df_count.head())\n",
    "print(\"\\n=== TF-IDF ===\")\n",
    "print(df_tfidf.head())"
   ]
  },
  {
   "cell_type": "code",
   "execution_count": null,
   "id": "bbb066a7",
   "metadata": {
    "lines_to_next_cell": 1
   },
   "outputs": [],
   "source": [
    "# Ejemplo de análisis de sentimiento simple (contar palabras positivas/negativas)\n",
    "positive_words = [\"encanta\", \"excelente\", \"increíble\", \"superó\"]\n",
    "negative_words = [\"no\", \"defectuoso\", \"gustó\"]"
   ]
  },
  {
   "cell_type": "code",
   "execution_count": null,
   "id": "d6d835ef",
   "metadata": {
    "lines_to_next_cell": 1
   },
   "outputs": [],
   "source": [
    "def count_sentiment(text, words):\n",
    "    return sum(1 for word in words if word in text.lower())"
   ]
  },
  {
   "cell_type": "code",
   "execution_count": null,
   "id": "e28cc305",
   "metadata": {},
   "outputs": [],
   "source": [
    "df_text = pd.DataFrame(corpus, columns=[\"Reseña\"])\n",
    "df_text[\"Palabras_Positivas\"] = df_text[\"Reseña\"].apply(lambda x: count_sentiment(x, positive_words))\n",
    "df_text[\"Palabras_Negativas\"] = df_text[\"Reseña\"].apply(lambda x: count_sentiment(x, negative_words))\n",
    "df_text[\"Sentimiento\"] = df_text[\"Palabras_Positivas\"] - df_text[\"Palabras_Negativas\"]"
   ]
  },
  {
   "cell_type": "code",
   "execution_count": null,
   "id": "912f968f",
   "metadata": {},
   "outputs": [],
   "source": [
    "print(\"\\n=== Análisis de Sentimiento ===\")\n",
    "print(df_text)"
   ]
  }
 ],
 "metadata": {
  "jupytext": {
   "cell_metadata_filter": "-all",
   "main_language": "python",
   "notebook_metadata_filter": "-all"
  }
 },
 "nbformat": 4,
 "nbformat_minor": 5
}
