{
 "cells": [
  {
   "cell_type": "code",
   "execution_count": null,
   "id": "0c475883",
   "metadata": {},
   "outputs": [],
   "source": [
    "import pandas as pd\n",
    "import numpy as np\n",
    "import matplotlib.pyplot as plt\n",
    "from sklearn.linear_model import LinearRegression\n",
    "from sklearn.tree import DecisionTreeRegressor\n",
    "from sklearn.metrics import mean_squared_error\n",
    "from sklearn.preprocessing import KBinsDiscretizer"
   ]
  },
  {
   "cell_type": "code",
   "execution_count": null,
   "id": "490f534e",
   "metadata": {},
   "outputs": [],
   "source": [
    "# Crear datos sintéticos con relación no lineal\n",
    "np.random.seed(42)\n",
    "X = np.linspace(0, 100, 500)\n",
    "y = np.where(X < 30, X*2, \n",
    "             np.where(X < 70, 60 + (X-30)*0.5, \n",
    "                     80 + (X-70)*0.2)) + np.random.normal(0, 3, 500)"
   ]
  },
  {
   "cell_type": "code",
   "execution_count": null,
   "id": "4100c23c",
   "metadata": {},
   "outputs": [],
   "source": [
    "df = pd.DataFrame({'Edad': X, 'Riesgo': y})"
   ]
  },
  {
   "cell_type": "code",
   "execution_count": null,
   "id": "b4cbeedf",
   "metadata": {},
   "outputs": [],
   "source": [
    "# Estrategias de discretización\n",
    "strategies = ['uniform', 'quantile', 'kmeans']\n",
    "n_bins = 5"
   ]
  },
  {
   "cell_type": "code",
   "execution_count": null,
   "id": "e8819c57",
   "metadata": {},
   "outputs": [],
   "source": [
    "plt.figure(figsize=(18, 5))"
   ]
  },
  {
   "cell_type": "code",
   "execution_count": null,
   "id": "70d7c879",
   "metadata": {},
   "outputs": [],
   "source": [
    "for i, strategy in enumerate(strategies):\n",
    "    # Discretización\n",
    "    discretizer = KBinsDiscretizer(n_bins=n_bins, encode='ordinal', strategy=strategy)\n",
    "    df[f'Edad_{strategy}'] = discretizer.fit_transform(df[['Edad']]).astype(int)\n",
    "    \n",
    "    # Calcular promedio de riesgo por bin\n",
    "    bin_means = df.groupby(f'Edad_{strategy}')['Riesgo'].mean()\n",
    "    bin_edges = discretizer.bin_edges_[0]\n",
    "    \n",
    "    # Visualización\n",
    "    plt.subplot(1, 3, i+1)\n",
    "    plt.scatter(df['Edad'], df['Riesgo'], alpha=0.5, label='Datos originales')\n",
    "    \n",
    "    # Graficar bins\n",
    "    for edge in bin_edges:\n",
    "        plt.axvline(edge, color='red', linestyle='--', alpha=0.3)\n",
    "    \n",
    "    # Graficar promedio por bin\n",
    "    for bin_num in range(n_bins):\n",
    "        mask = (df[f'Edad_{strategy}'] == bin_num)\n",
    "        plt.hlines(bin_means[bin_num], \n",
    "                   bin_edges[bin_num], \n",
    "                   bin_edges[bin_num+1], \n",
    "                   colors='black', linewidth=3)\n",
    "    \n",
    "    plt.title(f'Discretización {strategy.capitalize()}')\n",
    "    plt.xlabel('Edad')\n",
    "    plt.ylabel('Riesgo')\n",
    "    plt.legend()"
   ]
  },
  {
   "cell_type": "code",
   "execution_count": null,
   "id": "e69df35d",
   "metadata": {},
   "outputs": [],
   "source": [
    "plt.tight_layout()\n",
    "plt.show()"
   ]
  },
  {
   "cell_type": "code",
   "execution_count": null,
   "id": "76dcdaf7",
   "metadata": {},
   "outputs": [],
   "source": [
    "# Comparación de modelos con y sin discretización\n",
    "X = df[['Edad']]\n",
    "y = df['Riesgo']"
   ]
  },
  {
   "cell_type": "code",
   "execution_count": null,
   "id": "8efefb7a",
   "metadata": {},
   "outputs": [],
   "source": [
    "# Modelo lineal sin discretización\n",
    "lr_raw = LinearRegression()\n",
    "lr_raw.fit(X, y)\n",
    "y_pred_raw = lr_raw.predict(X)\n",
    "mse_raw = mean_squared_error(y, y_pred_raw)"
   ]
  },
  {
   "cell_type": "code",
   "execution_count": null,
   "id": "1f54f33d",
   "metadata": {},
   "outputs": [],
   "source": [
    "# Modelo lineal con discretización (mejor estrategia)\n",
    "df['Edad_bin'] = discretizer.fit_transform(X)\n",
    "X_bin = pd.get_dummies(df['Edad_bin'], prefix='bin')\n",
    "lr_bin = LinearRegression()\n",
    "lr_bin.fit(X_bin, y)\n",
    "y_pred_bin = lr_bin.predict(X_bin)\n",
    "mse_bin = mean_squared_error(y, y_pred_bin)"
   ]
  },
  {
   "cell_type": "code",
   "execution_count": null,
   "id": "6ab6d425",
   "metadata": {},
   "outputs": [],
   "source": [
    "# Modelo de árbol de decisión (para comparación)\n",
    "tree = DecisionTreeRegressor(max_depth=3)\n",
    "tree.fit(X, y)\n",
    "y_pred_tree = tree.predict(X)\n",
    "mse_tree = mean_squared_error(y, y_pred_tree)"
   ]
  },
  {
   "cell_type": "code",
   "execution_count": null,
   "id": "c963ecee",
   "metadata": {},
   "outputs": [],
   "source": [
    "# Resultados\n",
    "print(\"\\nComparación de MSE:\")\n",
    "print(f\"Regresión Lineal (sin discretización): {mse_raw:.2f}\")\n",
    "print(f\"Regresión Lineal (con discretización): {mse_bin:.2f}\")\n",
    "print(f\"Árbol de Decisión: {mse_tree:.2f}\")"
   ]
  },
  {
   "cell_type": "code",
   "execution_count": null,
   "id": "267d9f8c",
   "metadata": {},
   "outputs": [],
   "source": [
    "# Visualización comparativa\n",
    "plt.figure(figsize=(12, 6))\n",
    "plt.scatter(df['Edad'], df['Riesgo'], alpha=0.3, label='Datos reales')\n",
    "plt.plot(df['Edad'], y_pred_raw, color='red', label='Regresión Lineal (sin bin)', linewidth=2)\n",
    "plt.plot(df['Edad'], y_pred_bin, color='green', label='Regresión Lineal (con bin)', linewidth=2)\n",
    "plt.plot(df['Edad'], y_pred_tree, color='blue', label='Árbol de Decisión', linewidth=2)\n",
    "plt.title('Comparación de Modelos con/sin Discretización')\n",
    "plt.xlabel('Edad')\n",
    "plt.ylabel('Riesgo')\n",
    "plt.legend()\n",
    "plt.show()"
   ]
  },
  {
   "cell_type": "code",
   "execution_count": null,
   "id": "851b0d29",
   "metadata": {},
   "outputs": [],
   "source": [
    "# Análisis de bins óptimos\n",
    "mse_values = []\n",
    "bin_range = range(2, 15)"
   ]
  },
  {
   "cell_type": "code",
   "execution_count": null,
   "id": "7fc5f96c",
   "metadata": {},
   "outputs": [],
   "source": [
    "for n in bin_range:\n",
    "    discretizer = KBinsDiscretizer(n_bins=n, encode='ordinal', strategy='quantile')\n",
    "    X_bin = discretizer.fit_transform(X)\n",
    "    X_bin_dummies = pd.get_dummies(X_bin.ravel(), prefix='bin')\n",
    "    lr = LinearRegression()\n",
    "    lr.fit(X_bin_dummies, y)\n",
    "    y_pred = lr.predict(X_bin_dummies)\n",
    "    mse_values.append(mean_squared_error(y, y_pred))"
   ]
  },
  {
   "cell_type": "code",
   "execution_count": null,
   "id": "d54eabbb",
   "metadata": {},
   "outputs": [],
   "source": [
    "plt.figure(figsize=(10, 5))\n",
    "plt.plot(bin_range, mse_values, marker='o')\n",
    "plt.title('Selección del Número Óptimo de Bins')\n",
    "plt.xlabel('Número de Bins')\n",
    "plt.ylabel('MSE')\n",
    "plt.grid()\n",
    "plt.show()"
   ]
  }
 ],
 "metadata": {
  "jupytext": {
   "cell_metadata_filter": "-all",
   "main_language": "python",
   "notebook_metadata_filter": "-all"
  }
 },
 "nbformat": 4,
 "nbformat_minor": 5
}
