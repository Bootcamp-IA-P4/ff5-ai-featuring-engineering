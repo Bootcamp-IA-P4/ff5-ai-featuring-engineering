{
 "cells": [
  {
   "cell_type": "code",
   "execution_count": null,
   "id": "998a3b30",
   "metadata": {},
   "outputs": [],
   "source": [
    "import pandas as pd\n",
    "import numpy as np\n",
    "import matplotlib.pyplot as plt"
   ]
  },
  {
   "cell_type": "code",
   "execution_count": null,
   "id": "ae91b5db",
   "metadata": {},
   "outputs": [],
   "source": [
    "# Crear datos de ejemplo: transacciones de clientes\n",
    "np.random.seed(42)\n",
    "data = {\n",
    "    \"Cliente_ID\": np.random.randint(1, 6, 100),\n",
    "    \"Fecha_Compra\": pd.date_range(start=\"2023-01-01\", periods=100),\n",
    "    \"Monto_Compra\": np.random.uniform(10, 500, 100),\n",
    "    \"Categoría\": np.random.choice([\"Electrónicos\", \"Ropa\", \"Hogar\", \"Alimentos\"], 100)\n",
    "}\n",
    "df = pd.DataFrame(data)"
   ]
  },
  {
   "cell_type": "code",
   "execution_count": null,
   "id": "112ed556",
   "metadata": {},
   "outputs": [],
   "source": [
    "# 1. Agregaciones básicas por cliente\n",
    "agg_features = df.groupby(\"Cliente_ID\").agg({\n",
    "    \"Monto_Compra\": [\"count\", \"sum\", \"mean\", \"max\", \"min\", \"std\"],\n",
    "    \"Fecha_Compra\": [\"min\", \"max\", \"nunique\"]\n",
    "}).reset_index()"
   ]
  },
  {
   "cell_type": "code",
   "execution_count": null,
   "id": "5fa485aa",
   "metadata": {},
   "outputs": [],
   "source": [
    "# Renombrar columnas\n",
    "agg_features.columns = [\n",
    "    \"Cliente_ID\", \n",
    "    \"Total_Compras\", \n",
    "    \"Gasto_Total\", \n",
    "    \"Gasto_Promedio\", \n",
    "    \"Gasto_Máximo\", \n",
    "    \"Gasto_Mínimo\", \n",
    "    \"Desviación_Gasto\",\n",
    "    \"Primera_Compra\",\n",
    "    \"Última_Compra\",\n",
    "    \"Días_Compra_Únicos\"\n",
    "]"
   ]
  },
  {
   "cell_type": "code",
   "execution_count": null,
   "id": "4406eea2",
   "metadata": {},
   "outputs": [],
   "source": [
    "# 2. Frecuencia de compra (días entre compras)\n",
    "df = df.sort_values([\"Cliente_ID\", \"Fecha_Compra\"])\n",
    "df[\"Días_Entre_Compras\"] = df.groupby(\"Cliente_ID\")[\"Fecha_Compra\"].diff().dt.days"
   ]
  },
  {
   "cell_type": "code",
   "execution_count": null,
   "id": "5bc24583",
   "metadata": {},
   "outputs": [],
   "source": [
    "# 3. Comportamiento por categoría\n",
    "categoria_features = df.groupby([\"Cliente_ID\", \"Categoría\"]).agg({\n",
    "    \"Monto_Compra\": \"sum\"\n",
    "}).unstack(fill_value=0)\n",
    "categoria_features.columns = [f\"Gasto_{cat}\" for cat in categoria_features.columns.get_level_values(1)]"
   ]
  },
  {
   "cell_type": "code",
   "execution_count": null,
   "id": "bb4d8f87",
   "metadata": {},
   "outputs": [],
   "source": [
    "# Combinar todas las características\n",
    "final_features = pd.merge(agg_features, categoria_features, on=\"Cliente_ID\")"
   ]
  },
  {
   "cell_type": "code",
   "execution_count": null,
   "id": "8b4cfcc1",
   "metadata": {},
   "outputs": [],
   "source": [
    "# Calcular antigüedad del cliente\n",
    "final_features[\"Antigüedad_Días\"] = (pd.to_datetime(\"today\") - final_features[\"Primera_Compra\"]).dt.days"
   ]
  },
  {
   "cell_type": "code",
   "execution_count": null,
   "id": "f504e5b0",
   "metadata": {},
   "outputs": [],
   "source": [
    "# Visualización\n",
    "plt.figure(figsize=(12, 6))\n",
    "final_features.set_index(\"Cliente_ID\")[[\"Gasto_Total\", \"Gasto_Promedio\", \"Total_Compras\"]].plot(kind=\"bar\", subplots=True)\n",
    "plt.tight_layout()\n",
    "plt.show()"
   ]
  },
  {
   "cell_type": "code",
   "execution_count": null,
   "id": "22dbc3dc",
   "metadata": {},
   "outputs": [],
   "source": [
    "print(\"=== Características agregadas ===\")\n",
    "print(final_features.head())"
   ]
  }
 ],
 "metadata": {
  "jupytext": {
   "cell_metadata_filter": "-all",
   "main_language": "python",
   "notebook_metadata_filter": "-all"
  }
 },
 "nbformat": 4,
 "nbformat_minor": 5
}
