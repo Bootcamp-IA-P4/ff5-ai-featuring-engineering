{
 "cells": [
  {
   "cell_type": "code",
   "execution_count": null,
   "id": "ef7f532d",
   "metadata": {},
   "outputs": [],
   "source": [
    "import pandas as pd\n",
    "import matplotlib.pyplot as plt"
   ]
  },
  {
   "cell_type": "code",
   "execution_count": null,
   "id": "d17281cf",
   "metadata": {},
   "outputs": [],
   "source": [
    "# Crear DataFrame de ejemplo con fechas\n",
    "data = {\n",
    "    \"Fecha\": pd.date_range(start=\"2023-01-01\", periods=10, freq=\"D\"),\n",
    "    \"Ventas\": [120, 150, 80, 200, 250, 180, 90, 300, 350, 400]\n",
    "}\n",
    "df = pd.DataFrame(data)"
   ]
  },
  {
   "cell_type": "code",
   "execution_count": null,
   "id": "7c977a64",
   "metadata": {},
   "outputs": [],
   "source": [
    "# Extraer componentes de fecha\n",
    "df[\"Año\"] = df[\"Fecha\"].dt.year\n",
    "df[\"Mes\"] = df[\"Fecha\"].dt.month\n",
    "df[\"Día\"] = df[\"Fecha\"].dt.day\n",
    "df[\"Día_Semana\"] = df[\"Fecha\"].dt.dayofweek  # 0=Lunes, 6=Domingo\n",
    "df[\"Es_FinDeSemana\"] = df[\"Día_Semana\"].apply(lambda x: 1 if x >= 5 else 0)\n",
    "df[\"Trimestre\"] = df[\"Fecha\"].dt.quarter\n",
    "df[\"Día_Año\"] = df[\"Fecha\"].dt.dayofyear"
   ]
  },
  {
   "cell_type": "code",
   "execution_count": null,
   "id": "a1125b79",
   "metadata": {},
   "outputs": [],
   "source": [
    "# Visualizar ventas por día de semana\n",
    "plt.figure(figsize=(10, 5))\n",
    "df.groupby(\"Día_Semana\")[\"Ventas\"].mean().plot(kind=\"bar\")\n",
    "plt.title(\"Ventas promedio por día de la semana\")\n",
    "plt.xlabel(\"Día de la semana (0=Lunes, 6=Domingo)\")\n",
    "plt.ylabel(\"Ventas promedio\")\n",
    "plt.xticks(rotation=0)\n",
    "plt.grid(axis='y')\n",
    "plt.show()"
   ]
  }
 ],
 "metadata": {
  "jupytext": {
   "cell_metadata_filter": "-all",
   "main_language": "python",
   "notebook_metadata_filter": "-all"
  }
 },
 "nbformat": 4,
 "nbformat_minor": 5
}
