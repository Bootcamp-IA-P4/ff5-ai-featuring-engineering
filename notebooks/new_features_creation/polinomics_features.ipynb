{
 "cells": [
  {
   "cell_type": "code",
   "execution_count": null,
   "id": "fb0b0dcf",
   "metadata": {},
   "outputs": [],
   "source": [
    "import pandas as pd\n",
    "import numpy as np\n",
    "import matplotlib.pyplot as plt\n",
    "from sklearn.preprocessing import PolynomialFeatures\n",
    "from sklearn.linear_model import LinearRegression\n",
    "from sklearn.metrics import mean_squared_error\n",
    "from sklearn.model_selection import train_test_split"
   ]
  },
  {
   "cell_type": "code",
   "execution_count": null,
   "id": "073dd18a",
   "metadata": {},
   "outputs": [],
   "source": [
    "# Crear datos sintéticos no lineales\n",
    "np.random.seed(42)\n",
    "X = np.linspace(-10, 10, 100)\n",
    "y = 2*X**3 - 5*X**2 + 3*X + 10 + np.random.normal(0, 50, 100)\n",
    "df = pd.DataFrame({'X': X, 'y': y})"
   ]
  },
  {
   "cell_type": "code",
   "execution_count": null,
   "id": "8e8f7400",
   "metadata": {},
   "outputs": [],
   "source": [
    "# Dividir en train y test\n",
    "X_train, X_test, y_train, y_test = train_test_split(df[['X']], df['y'], test_size=0.2, random_state=42)"
   ]
  },
  {
   "cell_type": "code",
   "execution_count": null,
   "id": "b3cb80be",
   "metadata": {},
   "outputs": [],
   "source": [
    "# Crear características polinómicas de diferentes grados\n",
    "degrees = [1, 2, 3, 4, 5]\n",
    "results = []"
   ]
  },
  {
   "cell_type": "code",
   "execution_count": null,
   "id": "9b412f53",
   "metadata": {},
   "outputs": [],
   "source": [
    "plt.figure(figsize=(15, 10))\n",
    "for i, degree in enumerate(degrees):\n",
    "    # Transformación polinómica\n",
    "    poly = PolynomialFeatures(degree=degree, include_bias=False)\n",
    "    X_train_poly = poly.fit_transform(X_train)\n",
    "    X_test_poly = poly.transform(X_test)\n",
    "    \n",
    "    # Entrenar modelo\n",
    "    model = LinearRegression()\n",
    "    model.fit(X_train_poly, y_train)\n",
    "    \n",
    "    # Predecir y evaluar\n",
    "    y_pred = model.predict(X_test_poly)\n",
    "    mse = mean_squared_error(y_test, y_pred)\n",
    "    results.append({'degree': degree, 'mse': mse, 'model': model, 'poly': poly})\n",
    "    \n",
    "    # Visualización\n",
    "    plt.subplot(2, 3, i+1)\n",
    "    plt.scatter(X_train, y_train, color='blue', alpha=0.3, label='Train')\n",
    "    plt.scatter(X_test, y_test, color='red', alpha=0.3, label='Test')\n",
    "    \n",
    "    # Ordenar valores para la curva\n",
    "    X_plot = np.linspace(-10, 10, 100).reshape(-1, 1)\n",
    "    X_plot_poly = poly.transform(X_plot)\n",
    "    y_plot = model.predict(X_plot_poly)\n",
    "    \n",
    "    plt.plot(X_plot, y_plot, color='black', linewidth=2)\n",
    "    plt.title(f'Grado {degree}\\nMSE: {mse:.2f}')\n",
    "    plt.legend()"
   ]
  },
  {
   "cell_type": "code",
   "execution_count": null,
   "id": "3b0417eb",
   "metadata": {},
   "outputs": [],
   "source": [
    "plt.tight_layout()\n",
    "plt.show()"
   ]
  },
  {
   "cell_type": "code",
   "execution_count": null,
   "id": "b8387811",
   "metadata": {},
   "outputs": [],
   "source": [
    "# Comparación de resultados\n",
    "results_df = pd.DataFrame(results)\n",
    "print(\"\\nComparación de modelos polinómicos:\")\n",
    "print(results_df[['degree', 'mse']])"
   ]
  },
  {
   "cell_type": "code",
   "execution_count": null,
   "id": "cb1cb10c",
   "metadata": {},
   "outputs": [],
   "source": [
    "# Extraer coeficientes del mejor modelo\n",
    "best_model_idx = results_df['mse'].idxmin()\n",
    "best_degree = results_df.loc[best_model_idx, 'degree']\n",
    "best_model = results_df.loc[best_model_idx, 'model']\n",
    "best_poly = results_df.loc[best_model_idx, 'poly']"
   ]
  },
  {
   "cell_type": "code",
   "execution_count": null,
   "id": "9b967f46",
   "metadata": {},
   "outputs": [],
   "source": [
    "print(f\"\\nMejor grado polinómico: {best_degree}\")\n",
    "print(\"Coeficientes del modelo:\")\n",
    "feature_names = best_poly.get_feature_names_out(['X'])\n",
    "for name, coef in zip(feature_names, best_model.coef_):\n",
    "    print(f\"{name}: {coef:.4f}\")"
   ]
  }
 ],
 "metadata": {
  "jupytext": {
   "cell_metadata_filter": "-all",
   "main_language": "python",
   "notebook_metadata_filter": "-all"
  }
 },
 "nbformat": 4,
 "nbformat_minor": 5
}
