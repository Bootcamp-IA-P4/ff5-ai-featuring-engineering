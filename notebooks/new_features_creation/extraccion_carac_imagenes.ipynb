{
 "cells": [
  {
   "cell_type": "code",
   "execution_count": null,
   "id": "236a607c",
   "metadata": {},
   "outputs": [],
   "source": [
    "import cv2\n",
    "import numpy as np\n",
    "import matplotlib.pyplot as plt\n",
    "from skimage.feature import hog"
   ]
  },
  {
   "cell_type": "code",
   "execution_count": null,
   "id": "ddba0216",
   "metadata": {},
   "outputs": [],
   "source": [
    "# Cargar imagen de ejemplo (reemplaza con tu propia ruta)\n",
    "# Si no tienes una imagen, podemos generar una aleatoria\n",
    "image = np.random.randint(0, 256, (100, 100, 3), dtype=np.uint8)"
   ]
  },
  {
   "cell_type": "code",
   "execution_count": null,
   "id": "ccf1f496",
   "metadata": {},
   "outputs": [],
   "source": [
    "# 1. Convertir a escala de grises\n",
    "gray = cv2.cvtColor(image, cv2.COLOR_BGR2GRAY)"
   ]
  },
  {
   "cell_type": "code",
   "execution_count": null,
   "id": "467f1a58",
   "metadata": {},
   "outputs": [],
   "source": [
    "# 2. Detección de bordes (Canny)\n",
    "edges = cv2.Canny(gray, 100, 200)"
   ]
  },
  {
   "cell_type": "code",
   "execution_count": null,
   "id": "37df0cb1",
   "metadata": {},
   "outputs": [],
   "source": [
    "# 3. Histograma de gradientes orientados (HOG)\n",
    "fd, hog_image = hog(gray, orientations=8, pixels_per_cell=(16, 16),\n",
    "                    cells_per_block=(1, 1), visualize=True)"
   ]
  },
  {
   "cell_type": "code",
   "execution_count": null,
   "id": "24787339",
   "metadata": {},
   "outputs": [],
   "source": [
    "# 4. Extraer histograma de color\n",
    "hist_color = cv2.calcHist([image], [0, 1, 2], None, [8, 8, 8], [0, 256, 0, 256, 0, 256])\n",
    "hist_color = hist_color.flatten()"
   ]
  },
  {
   "cell_type": "code",
   "execution_count": null,
   "id": "710901c7",
   "metadata": {},
   "outputs": [],
   "source": [
    "# Mostrar resultados\n",
    "plt.figure(figsize=(15, 5))"
   ]
  },
  {
   "cell_type": "code",
   "execution_count": null,
   "id": "a5312561",
   "metadata": {},
   "outputs": [],
   "source": [
    "plt.subplot(1, 4, 1)\n",
    "plt.imshow(cv2.cvtColor(image, cv2.COLOR_BGR2RGB))\n",
    "plt.title(\"Imagen Original\")\n",
    "plt.axis(\"off\")"
   ]
  },
  {
   "cell_type": "code",
   "execution_count": null,
   "id": "1be76e2b",
   "metadata": {},
   "outputs": [],
   "source": [
    "plt.subplot(1, 4, 2)\n",
    "plt.imshow(gray, cmap=\"gray\")\n",
    "plt.title(\"Escala de Grises\")\n",
    "plt.axis(\"off\")"
   ]
  },
  {
   "cell_type": "code",
   "execution_count": null,
   "id": "e64e9a16",
   "metadata": {},
   "outputs": [],
   "source": [
    "plt.subplot(1, 4, 3)\n",
    "plt.imshow(edges, cmap=\"gray\")\n",
    "plt.title(\"Bordes (Canny)\")\n",
    "plt.axis(\"off\")"
   ]
  },
  {
   "cell_type": "code",
   "execution_count": null,
   "id": "e4c5ccaa",
   "metadata": {},
   "outputs": [],
   "source": [
    "plt.subplot(1, 4, 4)\n",
    "plt.imshow(hog_image, cmap=\"gray\")\n",
    "plt.title(\"HOG\")\n",
    "plt.axis(\"off\")"
   ]
  },
  {
   "cell_type": "code",
   "execution_count": null,
   "id": "b45d0efd",
   "metadata": {},
   "outputs": [],
   "source": [
    "plt.tight_layout()\n",
    "plt.show()"
   ]
  },
  {
   "cell_type": "code",
   "execution_count": null,
   "id": "d6b1b5fa",
   "metadata": {},
   "outputs": [],
   "source": [
    "print(f\"Características HOG: {len(fd)} dimensiones\")\n",
    "print(f\"Histograma de color: {len(hist_color)} dimensiones\")"
   ]
  }
 ],
 "metadata": {
  "jupytext": {
   "cell_metadata_filter": "-all",
   "main_language": "python",
   "notebook_metadata_filter": "-all"
  }
 },
 "nbformat": 4,
 "nbformat_minor": 5
}
