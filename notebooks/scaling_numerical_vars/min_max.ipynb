{
 "cells": [
  {
   "cell_type": "code",
   "execution_count": null,
   "id": "742d0827",
   "metadata": {},
   "outputs": [],
   "source": [
    "from sklearn.preprocessing import MinMaxScaler"
   ]
  },
  {
   "cell_type": "code",
   "execution_count": null,
   "id": "d390f837",
   "metadata": {},
   "outputs": [],
   "source": [
    "data = [[30], [40], [50], [20], [60]]\n",
    "scaler = MinMaxScaler()\n",
    "normalized = scaler.fit_transform(data)\n",
    "print(normalized)"
   ]
  }
 ],
 "metadata": {
  "jupytext": {
   "cell_metadata_filter": "-all",
   "main_language": "python",
   "notebook_metadata_filter": "-all"
  }
 },
 "nbformat": 4,
 "nbformat_minor": 5
}
