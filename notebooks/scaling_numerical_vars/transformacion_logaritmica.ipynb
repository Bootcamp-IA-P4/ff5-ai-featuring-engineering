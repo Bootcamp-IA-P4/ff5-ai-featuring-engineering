{
 "cells": [
  {
   "cell_type": "code",
   "execution_count": null,
   "id": "79ff0824",
   "metadata": {},
   "outputs": [],
   "source": [
    "import numpy as np"
   ]
  },
  {
   "cell_type": "code",
   "execution_count": null,
   "id": "53eb2b3d",
   "metadata": {},
   "outputs": [],
   "source": [
    "data = [1000, 2000, 3000, 4000, 100000]\n",
    "log_data = np.log(data)\n",
    "print(log_data)"
   ]
  }
 ],
 "metadata": {
  "jupytext": {
   "cell_metadata_filter": "-all",
   "main_language": "python",
   "notebook_metadata_filter": "-all"
  }
 },
 "nbformat": 4,
 "nbformat_minor": 5
}
