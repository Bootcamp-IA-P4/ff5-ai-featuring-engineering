{
 "cells": [
  {
   "cell_type": "code",
   "execution_count": null,
   "id": "129c9058",
   "metadata": {},
   "outputs": [],
   "source": [
    "from sklearn.preprocessing import StandardScaler"
   ]
  },
  {
   "cell_type": "code",
   "execution_count": null,
   "id": "3f1d8739",
   "metadata": {},
   "outputs": [],
   "source": [
    "data = [[60000], [40000], [50000], [70000]]\n",
    "scaler = StandardScaler()\n",
    "standardized = scaler.fit_transform(data)\n",
    "print(standardized)"
   ]
  }
 ],
 "metadata": {
  "jupytext": {
   "cell_metadata_filter": "-all",
   "main_language": "python",
   "notebook_metadata_filter": "-all"
  }
 },
 "nbformat": 4,
 "nbformat_minor": 5
}
