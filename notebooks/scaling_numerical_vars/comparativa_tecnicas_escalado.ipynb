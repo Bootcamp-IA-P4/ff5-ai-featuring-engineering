{
 "cells": [
  {
   "cell_type": "code",
   "execution_count": null,
   "id": "619d4e4c",
   "metadata": {
    "lines_to_next_cell": 2
   },
   "outputs": [],
   "source": [
    "import matplotlib.pyplot as plt\n",
    "import numpy as np\n",
    "from sklearn.preprocessing import MinMaxScaler, StandardScaler, RobustScaler"
   ]
  },
  {
   "cell_type": "code",
   "execution_count": null,
   "id": "3a1a4109",
   "metadata": {},
   "outputs": [],
   "source": [
    "# Datos de ejemplo con outlier\n",
    "data = [10, 20, 30, 40, 500]"
   ]
  },
  {
   "cell_type": "code",
   "execution_count": null,
   "id": "c7444920",
   "metadata": {},
   "outputs": [],
   "source": [
    "# Aplicar escalados\n",
    "minmax = MinMaxScaler().fit_transform(np.array(data).reshape(-1, 1))\n",
    "standard = StandardScaler().fit_transform(np.array(data).reshape(-1, 1))\n",
    "robust = RobustScaler().fit_transform(np.array(data).reshape(-1, 1))"
   ]
  },
  {
   "cell_type": "code",
   "execution_count": null,
   "id": "184d80f5",
   "metadata": {},
   "outputs": [],
   "source": [
    "# Gráfico\n",
    "plt.figure(figsize=(12, 4))\n",
    "plt.plot(data, label=\"Original\", marker='o')\n",
    "plt.plot(minmax, label=\"Min-Max\", marker='s')\n",
    "plt.plot(standard, label=\"Estandarización\", marker='^')\n",
    "plt.plot(robust, label=\"Robusto\", marker='d')\n",
    "plt.legend()\n",
    "plt.title(\"Comparación de Técnicas de Escalado\")\n",
    "plt.show()"
   ]
  }
 ],
 "metadata": {
  "jupytext": {
   "cell_metadata_filter": "-all",
   "main_language": "python",
   "notebook_metadata_filter": "-all"
  }
 },
 "nbformat": 4,
 "nbformat_minor": 5
}
