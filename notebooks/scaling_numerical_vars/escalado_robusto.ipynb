{
 "cells": [
  {
   "cell_type": "code",
   "execution_count": null,
   "id": "e4fa9faf",
   "metadata": {},
   "outputs": [],
   "source": [
    "from sklearn.preprocessing import RobustScaler"
   ]
  },
  {
   "cell_type": "code",
   "execution_count": null,
   "id": "55a03cec",
   "metadata": {},
   "outputs": [],
   "source": [
    "data = [[1000], [2000], [3000], [4000], [100000]]  # 100,000 es outlier\n",
    "scaler = RobustScaler()\n",
    "robust = scaler.fit_transform(data)\n",
    "print(robust)"
   ]
  }
 ],
 "metadata": {
  "jupytext": {
   "cell_metadata_filter": "-all",
   "main_language": "python",
   "notebook_metadata_filter": "-all"
  }
 },
 "nbformat": 4,
 "nbformat_minor": 5
}
