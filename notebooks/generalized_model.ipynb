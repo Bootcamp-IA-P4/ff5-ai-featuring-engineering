{
 "cells": [
  {
   "cell_type": "code",
   "execution_count": null,
   "id": "8dbe11c2",
   "metadata": {},
   "outputs": [],
   "source": [
    "import numpy as np\n",
    "import matplotlib.pyplot as plt\n",
    "from sklearn.tree import DecisionTreeRegressor\n",
    "from sklearn.ensemble import RandomForestRegressor\n",
    "from sklearn.model_selection import train_test_split\n",
    "from sklearn.metrics import mean_squared_error"
   ]
  },
  {
   "cell_type": "code",
   "execution_count": null,
   "id": "c72761e3",
   "metadata": {},
   "outputs": [],
   "source": [
    "# 1. Generar Datos Sintéticos\n",
    "# Crear datos no lineales con ruido\n",
    "np.random.seed(42)\n",
    "X = np.linspace(0, 10, 100).reshape(-1, 1)\n",
    "y = np.sin(X).ravel() + np.random.normal(0, 0.1, X.shape[0])  # Ruido añadido"
   ]
  },
  {
   "cell_type": "code",
   "execution_count": null,
   "id": "39f45f1c",
   "metadata": {},
   "outputs": [],
   "source": [
    "# Split en train y test\n",
    "X_train, X_test, y_train, y_test = train_test_split(X, y, test_size=0.3)"
   ]
  },
  {
   "cell_type": "code",
   "execution_count": null,
   "id": "bb103567",
   "metadata": {},
   "outputs": [],
   "source": []
  },
  {
   "cell_type": "code",
   "execution_count": null,
   "id": "2724ce02",
   "metadata": {},
   "outputs": [],
   "source": [
    "# 3. Modelo Generalizado (Random Forest)\n",
    "# Random Forest (menos propenso a overfitting)\n",
    "rf = RandomForestRegressor(n_estimators=100, max_depth=3)\n",
    "rf.fit(X_train, y_train)"
   ]
  },
  {
   "cell_type": "code",
   "execution_count": null,
   "id": "c71c23f4",
   "metadata": {},
   "outputs": [],
   "source": [
    "# Predicciones\n",
    "y_pred_train_rf = rf.predict(X_train)\n",
    "y_pred_test_rf = rf.predict(X_test)"
   ]
  },
  {
   "cell_type": "code",
   "execution_count": null,
   "id": "f7ce5585",
   "metadata": {},
   "outputs": [],
   "source": [
    "# Métricas\n",
    "print(f\"MSE Train (RF): {mean_squared_error(y_train, y_pred_train_rf):.4f}\")  # ~0.02\n",
    "print(f\"MSE Test (RF): {mean_squared_error(y_test, y_pred_test_rf):.4f}\")    # ~0.03 (similar)"
   ]
  },
  {
   "cell_type": "code",
   "execution_count": null,
   "id": "84746d5f",
   "metadata": {},
   "outputs": [],
   "source": [
    "# Gráfica de Generalización:\n",
    "plt.figure(figsize=(10, 6))\n",
    "plt.scatter(X_train, y_train, color='blue', label='Train', alpha=0.5)\n",
    "plt.scatter(X_test, y_test, color='red', label='Test', alpha=0.5)\n",
    "plt.plot(X, rf.predict(X), color='green', label='Random Forest', linewidth=2)\n",
    "plt.legend()\n",
    "plt.title(\"Modelo Generalizado: Captura la tendencia sin memorizar ruido\")\n",
    "plt.show()"
   ]
  }
 ],
 "metadata": {
  "jupytext": {
   "cell_metadata_filter": "-all",
   "main_language": "python",
   "notebook_metadata_filter": "-all"
  }
 },
 "nbformat": 4,
 "nbformat_minor": 5
}
