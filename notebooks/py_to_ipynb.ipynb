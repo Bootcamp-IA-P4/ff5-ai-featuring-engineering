{
 "cells": [
  {
   "cell_type": "code",
   "execution_count": null,
   "id": "b8f05650",
   "metadata": {},
   "outputs": [],
   "source": [
    "import os\n",
    "import jupytext\n",
    "from pathlib import Path"
   ]
  },
  {
   "cell_type": "code",
   "execution_count": null,
   "id": "9ff925bd",
   "metadata": {},
   "outputs": [],
   "source": [
    "# Configuración\n",
    "SRC_DIR = \"src/\"  # Ruta base (ajusta según tu estructura)\n",
    "OUTPUT_DIR = \"notebooks/\"  # Carpeta destino para los notebooks"
   ]
  },
  {
   "cell_type": "code",
   "execution_count": null,
   "id": "15f4802e",
   "metadata": {
    "lines_to_next_cell": 1
   },
   "outputs": [],
   "source": [
    "# Crear directorio de salida si no existe\n",
    "Path(OUTPUT_DIR).mkdir(parents=True, exist_ok=True)"
   ]
  },
  {
   "cell_type": "code",
   "execution_count": null,
   "id": "183b4972",
   "metadata": {
    "lines_to_next_cell": 1
   },
   "outputs": [],
   "source": [
    "def convert_py_to_ipynb(py_path):\n",
    "    \"\"\"Convierte un archivo .py a .ipynb manteniendo estructura de carpetas\"\"\"\n",
    "    # Generar ruta relativa dentro de src\n",
    "    relative_path = os.path.relpath(py_path, start=SRC_DIR)\n",
    "    \n",
    "    # Crear estructura equivalente en notebooks\n",
    "    ipynb_path = os.path.join(OUTPUT_DIR, relative_path).replace(\".py\", \".ipynb\")\n",
    "    os.makedirs(os.path.dirname(ipynb_path), exist_ok=True)\n",
    "    \n",
    "    # Leer el archivo .py y escribirlo como .ipynb\n",
    "    with open(py_path, \"r\") as py_file:\n",
    "        notebook = jupytext.read(py_file, fmt=\"py\")\n",
    "    with open(ipynb_path, \"w\") as ipynb_file:\n",
    "        jupytext.write(notebook, ipynb_file, fmt=\"ipynb\")\n",
    "    \n",
    "    print(f\"Convertido: {relative_path} -> {ipynb_path}\")"
   ]
  },
  {
   "cell_type": "code",
   "execution_count": null,
   "id": "416c66f5",
   "metadata": {},
   "outputs": [],
   "source": [
    "# Recorrer recursivamente src\n",
    "for root, _, files in os.walk(SRC_DIR):\n",
    "    for file in files:\n",
    "        if file.endswith(\".py\") and file != \"tempCodeRunnerFile.py\":  # Ignorar archivos temporales\n",
    "            convert_py_to_ipynb(os.path.join(root, file))"
   ]
  },
  {
   "cell_type": "code",
   "execution_count": null,
   "id": "b148be30",
   "metadata": {},
   "outputs": [],
   "source": [
    "print(\"\\n✅ Conversión completada. Archivos guardados en:\", OUTPUT_DIR)"
   ]
  }
 ],
 "metadata": {
  "jupytext": {
   "cell_metadata_filter": "-all",
   "main_language": "python",
   "notebook_metadata_filter": "-all"
  }
 },
 "nbformat": 4,
 "nbformat_minor": 5
}
