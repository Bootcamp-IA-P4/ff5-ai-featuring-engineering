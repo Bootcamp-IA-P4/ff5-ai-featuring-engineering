{
 "cells": [
  {
   "cell_type": "code",
   "execution_count": null,
   "id": "4a993b62",
   "metadata": {},
   "outputs": [],
   "source": [
    "import pandas as pd\n",
    "import matplotlib.pyplot as plt"
   ]
  },
  {
   "cell_type": "code",
   "execution_count": null,
   "id": "51900b0c",
   "metadata": {},
   "outputs": [],
   "source": [
    "# Dataset de ejemplo\n",
    "data = {\n",
    "    \"Ciudad\": [\"Madrid\", \"Barcelona\", \"Valencia\", \"Madrid\", \"Barcelona\"],\n",
    "    \"Precio\": [300000, 400000, 250000, 320000, 380000]\n",
    "}\n",
    "df = pd.DataFrame(data)\n",
    "# Calcular promedio del target (precio) por ciudad\n",
    "target_map = df.groupby(\"Ciudad\")[\"Precio\"].mean().to_dict()\n",
    "df[\"Ciudad_TargetEnc\"] = df[\"Ciudad\"].map(target_map)"
   ]
  },
  {
   "cell_type": "code",
   "execution_count": null,
   "id": "b20d92e1",
   "metadata": {
    "lines_to_next_cell": 2
   },
   "outputs": [],
   "source": [
    "# Gráfico\n",
    "plt.figure(figsize=(10, 4))\n",
    "plt.bar(target_map.keys(), target_map.values(), color='orange')\n",
    "plt.title(\"Target Encoding: Precio promedio por ciudad\")\n",
    "plt.xlabel(\"Ciudad\")\n",
    "plt.ylabel(\"Precio Promedio (€)\")\n",
    "plt.show()"
   ]
  }
 ],
 "metadata": {
  "jupytext": {
   "cell_metadata_filter": "-all",
   "main_language": "python",
   "notebook_metadata_filter": "-all"
  }
 },
 "nbformat": 4,
 "nbformat_minor": 5
}
