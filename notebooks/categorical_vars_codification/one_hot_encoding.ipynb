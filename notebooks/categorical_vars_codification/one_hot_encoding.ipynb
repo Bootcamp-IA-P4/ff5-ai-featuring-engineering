{
 "cells": [
  {
   "cell_type": "code",
   "execution_count": null,
   "id": "98bfaa00",
   "metadata": {},
   "outputs": [],
   "source": [
    "import pandas as pd\n",
    "import matplotlib.pyplot as plt"
   ]
  },
  {
   "cell_type": "code",
   "execution_count": null,
   "id": "50b9556f",
   "metadata": {},
   "outputs": [],
   "source": [
    "data = {\n",
    "    \"Ciudad\": [\"Madrid\", \"Barcelona\", \"Valencia\", \"Madrid\", \"Barcelona\"],\n",
    "    \"Precio\": [300000, 400000, 250000, 320000, 380000]\n",
    "}\n",
    "df = pd.DataFrame(data)\n",
    "print(\"Dataset original:\")\n",
    "print(df)"
   ]
  },
  {
   "cell_type": "code",
   "execution_count": null,
   "id": "9aa18ec0",
   "metadata": {},
   "outputs": [],
   "source": [
    "df_encoded = pd.get_dummies(df, columns=[\"Ciudad\"])\n",
    "print(\"\\nDataset con One-Hot Encoding:\")\n",
    "print(df_encoded)"
   ]
  },
  {
   "cell_type": "code",
   "execution_count": null,
   "id": "f79f42cf",
   "metadata": {},
   "outputs": [],
   "source": [
    "plt.figure(figsize=(10, 6))"
   ]
  },
  {
   "cell_type": "code",
   "execution_count": null,
   "id": "c0ebe251",
   "metadata": {},
   "outputs": [],
   "source": [
    "# Seleccionar solo las columnas one-hot (excluyendo 'Precio')\n",
    "one_hot_cols = [col for col in df_encoded.columns if col.startswith(\"Ciudad_\")]"
   ]
  },
  {
   "cell_type": "code",
   "execution_count": null,
   "id": "13e3c160",
   "metadata": {},
   "outputs": [],
   "source": [
    "# Crear un gráfico de barras apiladas para todas las filas\n",
    "for i, row in df_encoded.iterrows():\n",
    "    plt.bar(one_hot_cols, row[one_hot_cols], label=f\"Fila {i}: {df.loc[i, 'Ciudad']}\")"
   ]
  },
  {
   "cell_type": "code",
   "execution_count": null,
   "id": "51703636",
   "metadata": {},
   "outputs": [],
   "source": [
    "plt.title(\"One-Hot Encoding - Todas las Filas\")\n",
    "plt.xlabel(\"Ciudades Codificadas\")\n",
    "plt.ylabel(\"Valor Binario (1 = Pertenece, 0 = No)\")\n",
    "plt.legend()\n",
    "plt.show()"
   ]
  },
  {
   "cell_type": "code",
   "execution_count": null,
   "id": "645b065f",
   "metadata": {},
   "outputs": [],
   "source": [
    "# Sumar las columnas one-hot para ver la frecuencia\n",
    "sum_one_hot = df_encoded[one_hot_cols].sum()"
   ]
  },
  {
   "cell_type": "code",
   "execution_count": null,
   "id": "f0758674",
   "metadata": {},
   "outputs": [],
   "source": [
    "plt.figure(figsize=(10, 4))\n",
    "sum_one_hot.plot(kind='bar', color='skyblue')\n",
    "plt.title(\"Conteo de Ciudades en One-Hot Encoding\")\n",
    "plt.xlabel(\"Ciudades\")\n",
    "plt.ylabel(\"Número de Apariciones\")\n",
    "plt.show()"
   ]
  }
 ],
 "metadata": {
  "jupytext": {
   "cell_metadata_filter": "-all",
   "main_language": "python",
   "notebook_metadata_filter": "-all"
  }
 },
 "nbformat": 4,
 "nbformat_minor": 5
}
