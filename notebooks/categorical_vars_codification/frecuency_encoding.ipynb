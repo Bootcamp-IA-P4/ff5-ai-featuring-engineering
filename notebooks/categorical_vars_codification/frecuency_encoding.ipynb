{
 "cells": [
  {
   "cell_type": "code",
   "execution_count": null,
   "id": "82b04667",
   "metadata": {},
   "outputs": [],
   "source": [
    "import pandas as pd\n",
    "import matplotlib.pyplot as plt"
   ]
  },
  {
   "cell_type": "code",
   "execution_count": null,
   "id": "563817d5",
   "metadata": {},
   "outputs": [],
   "source": [
    "# Dataset de ejemplo\n",
    "data = {\n",
    "    \"Ciudad\": [\"Madrid\", \"Barcelona\", \"Valencia\", \"Madrid\", \"Barcelona\"],\n",
    "    \"Precio\": [300000, 400000, 250000, 320000, 380000]\n",
    "}\n",
    "df = pd.DataFrame(data)\n",
    "# Calcular frecuencias\n",
    "freq_map = df[\"Ciudad\"].value_counts(normalize=True).to_dict()\n",
    "df[\"Ciudad_FreqEnc\"] = df[\"Ciudad\"].map(freq_map)"
   ]
  },
  {
   "cell_type": "code",
   "execution_count": null,
   "id": "dc804aa5",
   "metadata": {},
   "outputs": [],
   "source": [
    "# Gráfico\n",
    "plt.figure(figsize=(10, 4))\n",
    "plt.bar(freq_map.keys(), freq_map.values(), color='purple')\n",
    "plt.title(\"Frequency Encoding: Frecuencia relativa de cada categoría\")\n",
    "plt.xlabel(\"Ciudad\")\n",
    "plt.ylabel(\"Frecuencia\")\n",
    "plt.show()"
   ]
  }
 ],
 "metadata": {
  "jupytext": {
   "cell_metadata_filter": "-all",
   "main_language": "python",
   "notebook_metadata_filter": "-all"
  }
 },
 "nbformat": 4,
 "nbformat_minor": 5
}
