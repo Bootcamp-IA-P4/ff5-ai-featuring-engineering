{
 "cells": [
  {
   "cell_type": "code",
   "execution_count": null,
   "id": "5c983549",
   "metadata": {},
   "outputs": [],
   "source": [
    "from sklearn.preprocessing import LabelEncoder\n",
    "import pandas as pd\n",
    "import matplotlib.pyplot as plt"
   ]
  },
  {
   "cell_type": "code",
   "execution_count": null,
   "id": "358438a7",
   "metadata": {},
   "outputs": [],
   "source": [
    "# Dataset de ejemplo\n",
    "data = {\n",
    "    \"Ciudad\": [\"Madrid\", \"Barcelona\", \"Valencia\", \"Madrid\", \"Barcelona\"],\n",
    "    \"Precio\": [300000, 400000, 250000, 320000, 380000]\n",
    "}\n",
    "df = pd.DataFrame(data)\n",
    "# Aplicar Label Encoding\n",
    "encoder = LabelEncoder()\n",
    "df[\"Ciudad_LabelEnc\"] = encoder.fit_transform(df[\"Ciudad\"])"
   ]
  },
  {
   "cell_type": "code",
   "execution_count": null,
   "id": "0d7700c8",
   "metadata": {},
   "outputs": [],
   "source": [
    "# Gráfico\n",
    "plt.figure(figsize=(10, 4))\n",
    "plt.scatter(df[\"Ciudad\"], df[\"Ciudad_LabelEnc\"], color='red', s=100)\n",
    "plt.title(\"Label Encoding: Asigna números únicos\")\n",
    "plt.xlabel(\"Ciudad Original\")\n",
    "plt.ylabel(\"Código Numérico\")\n",
    "plt.grid()\n",
    "plt.show()"
   ]
  }
 ],
 "metadata": {
  "jupytext": {
   "cell_metadata_filter": "-all",
   "main_language": "python",
   "notebook_metadata_filter": "-all"
  }
 },
 "nbformat": 4,
 "nbformat_minor": 5
}
