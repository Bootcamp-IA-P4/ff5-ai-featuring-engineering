{
 "cells": [
  {
   "cell_type": "code",
   "execution_count": null,
   "id": "139d2710",
   "metadata": {},
   "outputs": [],
   "source": [
    "import category_encoders as ce\n",
    "import pandas as pd\n",
    "import matplotlib.pyplot as plt"
   ]
  },
  {
   "cell_type": "code",
   "execution_count": null,
   "id": "380b116d",
   "metadata": {},
   "outputs": [],
   "source": [
    "# Dataset de ejemplo\n",
    "data = {\n",
    "    \"Ciudad\": [\"Madrid\", \"Barcelona\", \"Valencia\", \"Madrid\", \"Barcelona\"],\n",
    "    \"Precio\": [300000, 400000, 250000, 320000, 380000]\n",
    "}\n",
    "df = pd.DataFrame(data)"
   ]
  },
  {
   "cell_type": "code",
   "execution_count": null,
   "id": "c0f33175",
   "metadata": {},
   "outputs": [],
   "source": [
    "# Aplicar Binary Encoding\n",
    "encoder = ce.BinaryEncoder(cols=[\"Ciudad\"])\n",
    "df_binary = encoder.fit_transform(df)"
   ]
  },
  {
   "cell_type": "code",
   "execution_count": null,
   "id": "6505f39f",
   "metadata": {},
   "outputs": [],
   "source": [
    "# Gráfico (primeras 2 columnas binarias)\n",
    "plt.figure(figsize=(10, 4))\n",
    "plt.bar(df_binary[\"Ciudad_0\"].unique(), df_binary[\"Ciudad_0\"].value_counts(), color='green')\n",
    "plt.title(\"Binary Encoding: Bits de la representación binaria\")\n",
    "plt.xlabel(\"Bit 0\")\n",
    "plt.ylabel(\"Conteo\")\n",
    "plt.show()"
   ]
  }
 ],
 "metadata": {
  "jupytext": {
   "cell_metadata_filter": "-all",
   "main_language": "python",
   "notebook_metadata_filter": "-all"
  }
 },
 "nbformat": 4,
 "nbformat_minor": 5
}
